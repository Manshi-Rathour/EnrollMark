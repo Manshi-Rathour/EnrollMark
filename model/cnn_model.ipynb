{
 "cells": [
  {
   "cell_type": "code",
   "execution_count": 1,
   "id": "4fdda3dd",
   "metadata": {},
   "outputs": [
    {
     "name": "stdout",
     "output_type": "stream",
     "text": [
      "WARNING:tensorflow:From C:\\Users\\mansh\\AppData\\Local\\Programs\\Python\\Python311\\Lib\\site-packages\\keras\\src\\losses.py:2976: The name tf.losses.sparse_softmax_cross_entropy is deprecated. Please use tf.compat.v1.losses.sparse_softmax_cross_entropy instead.\n",
      "\n"
     ]
    }
   ],
   "source": [
    "import matplotlib.pyplot as plt\n",
    "import numpy as np\n",
    "import pandas as pd\n",
    "import cv2\n",
    "import os\n",
    "import pathlib\n",
    "import PIL\n",
    "import tensorflow as tf\n",
    "\n",
    "from tensorflow import keras\n",
    "from tensorflow.keras import layers\n",
    "from tensorflow.keras.models import Sequential\n",
    "\n",
    "import pymysql\n",
    "\n",
    "from sklearn.model_selection import train_test_split\n",
    "import pickle"
   ]
  },
  {
   "cell_type": "code",
   "execution_count": 2,
   "id": "b1afba98",
   "metadata": {},
   "outputs": [],
   "source": [
    "data_path = \"..\\\\student_images\\\\\""
   ]
  },
  {
   "cell_type": "markdown",
   "id": "6bf08a20",
   "metadata": {},
   "source": [
    "## Saving image of new student in new folder and also appending its path in dictionary"
   ]
  },
  {
   "cell_type": "code",
   "execution_count": 11,
   "id": "0b059f01",
   "metadata": {},
   "outputs": [
    {
     "data": {
      "text/plain": [
       "{'Ananya Rathour': [WindowsPath('../student_images/Ananya Rathour/IMG_20240317_143108.jpg'),\n",
       "  WindowsPath('../student_images/Ananya Rathour/IMG_20240317_143111.jpg'),\n",
       "  WindowsPath('../student_images/Ananya Rathour/IMG_20240317_143114.jpg'),\n",
       "  WindowsPath('../student_images/Ananya Rathour/IMG_20240317_143119.jpg'),\n",
       "  WindowsPath('../student_images/Ananya Rathour/IMG_20240317_143122.jpg'),\n",
       "  WindowsPath('../student_images/Ananya Rathour/IMG_20240317_143124.jpg'),\n",
       "  WindowsPath('../student_images/Ananya Rathour/IMG_20240317_143129.jpg'),\n",
       "  WindowsPath('../student_images/Ananya Rathour/IMG_20240317_143132.jpg'),\n",
       "  WindowsPath('../student_images/Ananya Rathour/IMG_20240317_143138.jpg')],\n",
       " 'Manshi Rathour': [WindowsPath('../student_images/Manshi Rathour/IMG_20240317_143155.jpg'),\n",
       "  WindowsPath('../student_images/Manshi Rathour/IMG_20240317_143204.jpg'),\n",
       "  WindowsPath('../student_images/Manshi Rathour/IMG_20240317_143206.jpg'),\n",
       "  WindowsPath('../student_images/Manshi Rathour/IMG_20240317_143213.jpg'),\n",
       "  WindowsPath('../student_images/Manshi Rathour/IMG_20240317_143214.jpg'),\n",
       "  WindowsPath('../student_images/Manshi Rathour/IMG_20240317_143217.jpg'),\n",
       "  WindowsPath('../student_images/Manshi Rathour/IMG_20240317_143219.jpg'),\n",
       "  WindowsPath('../student_images/Manshi Rathour/IMG_20240317_143229.jpg'),\n",
       "  WindowsPath('../student_images/Manshi Rathour/IMG_20240317_143230.jpg'),\n",
       "  WindowsPath('../student_images/Manshi Rathour/IMG_20240317_143232.jpg'),\n",
       "  WindowsPath('../student_images/Manshi Rathour/IMG_20240317_143233.jpg'),\n",
       "  WindowsPath('../student_images/Manshi Rathour/IMG_20240317_143234.jpg'),\n",
       "  WindowsPath('../student_images/Manshi Rathour/IMG_20240317_143236.jpg')],\n",
       " 'Mayank Rathour': [WindowsPath('../student_images/Mayank Rathour/IMG_20240317_190833.jpg'),\n",
       "  WindowsPath('../student_images/Mayank Rathour/IMG_20240317_190835.jpg'),\n",
       "  WindowsPath('../student_images/Mayank Rathour/IMG_20240317_190838.jpg'),\n",
       "  WindowsPath('../student_images/Mayank Rathour/IMG_20240317_190839.jpg'),\n",
       "  WindowsPath('../student_images/Mayank Rathour/IMG_20240317_190842.jpg'),\n",
       "  WindowsPath('../student_images/Mayank Rathour/IMG_20240317_190844.jpg'),\n",
       "  WindowsPath('../student_images/Mayank Rathour/IMG_20240317_190845.jpg')],\n",
       " 'Naincy Rathour': [WindowsPath('../student_images/Naincy Rathour/IMG_20240317_190404.jpg'),\n",
       "  WindowsPath('../student_images/Naincy Rathour/IMG_20240317_190411.jpg'),\n",
       "  WindowsPath('../student_images/Naincy Rathour/IMG_20240317_190416.jpg'),\n",
       "  WindowsPath('../student_images/Naincy Rathour/IMG_20240317_190417.jpg'),\n",
       "  WindowsPath('../student_images/Naincy Rathour/IMG_20240317_190420.jpg'),\n",
       "  WindowsPath('../student_images/Naincy Rathour/IMG_20240317_190422.jpg'),\n",
       "  WindowsPath('../student_images/Naincy Rathour/IMG_20240317_190424.jpg'),\n",
       "  WindowsPath('../student_images/Naincy Rathour/IMG_20240317_190426.jpg'),\n",
       "  WindowsPath('../student_images/Naincy Rathour/IMG_20240317_190427.jpg')]}"
      ]
     },
     "execution_count": 11,
     "metadata": {},
     "output_type": "execute_result"
    }
   ],
   "source": [
    "def create_student_images_dict(data_path):\n",
    "    student_images_dict = {}\n",
    "    # Iterate over directories in data_path\n",
    "    for student_folder in os.listdir(data_path):\n",
    "        student_name = student_folder\n",
    "        # Get the path to the student's images\n",
    "        student_image_path = os.path.join(data_path, student_folder)\n",
    "        # Check if it's a directory\n",
    "        if os.path.isdir(student_image_path):\n",
    "            # List image files in the directory\n",
    "            image_files = list(pathlib.Path(student_image_path).glob('*'))\n",
    "            # Add student name and image paths to the dictionary\n",
    "            student_images_dict[student_name] = image_files\n",
    "    return student_images_dict\n",
    "\n",
    "\n",
    "student_images_dict = create_student_images_dict(data_path)\n",
    "student_images_dict"
   ]
  },
  {
   "cell_type": "code",
   "execution_count": 12,
   "id": "e502dc03",
   "metadata": {},
   "outputs": [],
   "source": [
    "def save_images_for_new_student(new_student_name, image_data, data_path, student_images_dict):\n",
    "    # Create a folder for the new student if it doesn't exist\n",
    "    student_folder_path = os.path.join(data_path, new_student_name)\n",
    "    os.makedirs(student_folder_path, exist_ok=True)\n",
    "    \n",
    "    # Save the images sent from the backend\n",
    "    image_paths = []\n",
    "    for i, image in enumerate(image_data):\n",
    "        image_path = os.path.join(student_folder_path, f\"image_{i+1}.jpg\")\n",
    "        with open(image_path, \"wb\") as file:\n",
    "            file.write(image)\n",
    "        image_paths.append(pathlib.Path(image_path))\n",
    "    \n",
    "    # Update student_images_dict with the new student folder path\n",
    "    student_images_dict[new_student_name] = image_paths\n",
    "    \n",
    "    return student_images_dict"
   ]
  },
  {
   "cell_type": "code",
   "execution_count": 13,
   "id": "33798d58",
   "metadata": {
    "scrolled": true
   },
   "outputs": [
    {
     "data": {
      "text/plain": [
       "{'Ananya Rathour': [WindowsPath('../student_images/Ananya Rathour/IMG_20240317_143108.jpg'),\n",
       "  WindowsPath('../student_images/Ananya Rathour/IMG_20240317_143111.jpg'),\n",
       "  WindowsPath('../student_images/Ananya Rathour/IMG_20240317_143114.jpg'),\n",
       "  WindowsPath('../student_images/Ananya Rathour/IMG_20240317_143119.jpg'),\n",
       "  WindowsPath('../student_images/Ananya Rathour/IMG_20240317_143122.jpg'),\n",
       "  WindowsPath('../student_images/Ananya Rathour/IMG_20240317_143124.jpg'),\n",
       "  WindowsPath('../student_images/Ananya Rathour/IMG_20240317_143129.jpg'),\n",
       "  WindowsPath('../student_images/Ananya Rathour/IMG_20240317_143132.jpg'),\n",
       "  WindowsPath('../student_images/Ananya Rathour/IMG_20240317_143138.jpg')],\n",
       " 'Manshi Rathour': [WindowsPath('../student_images/Manshi Rathour/IMG_20240317_143155.jpg'),\n",
       "  WindowsPath('../student_images/Manshi Rathour/IMG_20240317_143204.jpg'),\n",
       "  WindowsPath('../student_images/Manshi Rathour/IMG_20240317_143206.jpg'),\n",
       "  WindowsPath('../student_images/Manshi Rathour/IMG_20240317_143213.jpg'),\n",
       "  WindowsPath('../student_images/Manshi Rathour/IMG_20240317_143214.jpg'),\n",
       "  WindowsPath('../student_images/Manshi Rathour/IMG_20240317_143217.jpg'),\n",
       "  WindowsPath('../student_images/Manshi Rathour/IMG_20240317_143219.jpg'),\n",
       "  WindowsPath('../student_images/Manshi Rathour/IMG_20240317_143229.jpg'),\n",
       "  WindowsPath('../student_images/Manshi Rathour/IMG_20240317_143230.jpg'),\n",
       "  WindowsPath('../student_images/Manshi Rathour/IMG_20240317_143232.jpg'),\n",
       "  WindowsPath('../student_images/Manshi Rathour/IMG_20240317_143233.jpg'),\n",
       "  WindowsPath('../student_images/Manshi Rathour/IMG_20240317_143234.jpg'),\n",
       "  WindowsPath('../student_images/Manshi Rathour/IMG_20240317_143236.jpg')],\n",
       " 'Mayank Rathour': [WindowsPath('../student_images/Mayank Rathour/IMG_20240317_190833.jpg'),\n",
       "  WindowsPath('../student_images/Mayank Rathour/IMG_20240317_190835.jpg'),\n",
       "  WindowsPath('../student_images/Mayank Rathour/IMG_20240317_190838.jpg'),\n",
       "  WindowsPath('../student_images/Mayank Rathour/IMG_20240317_190839.jpg'),\n",
       "  WindowsPath('../student_images/Mayank Rathour/IMG_20240317_190842.jpg'),\n",
       "  WindowsPath('../student_images/Mayank Rathour/IMG_20240317_190844.jpg'),\n",
       "  WindowsPath('../student_images/Mayank Rathour/IMG_20240317_190845.jpg')],\n",
       " 'Naincy Rathour': [WindowsPath('../student_images/Naincy Rathour/IMG_20240317_190404.jpg'),\n",
       "  WindowsPath('../student_images/Naincy Rathour/IMG_20240317_190411.jpg'),\n",
       "  WindowsPath('../student_images/Naincy Rathour/IMG_20240317_190416.jpg'),\n",
       "  WindowsPath('../student_images/Naincy Rathour/IMG_20240317_190417.jpg'),\n",
       "  WindowsPath('../student_images/Naincy Rathour/IMG_20240317_190420.jpg'),\n",
       "  WindowsPath('../student_images/Naincy Rathour/IMG_20240317_190422.jpg'),\n",
       "  WindowsPath('../student_images/Naincy Rathour/IMG_20240317_190424.jpg'),\n",
       "  WindowsPath('../student_images/Naincy Rathour/IMG_20240317_190426.jpg'),\n",
       "  WindowsPath('../student_images/Naincy Rathour/IMG_20240317_190427.jpg')],\n",
       " 'New Student': [WindowsPath('../student_images/New Student/image_1.jpg'),\n",
       "  WindowsPath('../student_images/New Student/image_2.jpg'),\n",
       "  WindowsPath('../student_images/New Student/image_3.jpg'),\n",
       "  WindowsPath('../student_images/New Student/image_4.jpg'),\n",
       "  WindowsPath('../student_images/New Student/image_5.jpg'),\n",
       "  WindowsPath('../student_images/New Student/image_6.jpg')]}"
      ]
     },
     "execution_count": 13,
     "metadata": {},
     "output_type": "execute_result"
    }
   ],
   "source": [
    "# new_student_name = \"New Student\"\n",
    "# image_data = [b'image_1_data', b'image_2_data', b'image_3_data', b'image_4_data', b'image_5_data', b'image_6_data']\n",
    "# student_images_dict = save_images_for_new_student(new_student_name, image_data, data_path, student_images_dict)\n",
    "# student_images_dict "
   ]
  },
  {
   "cell_type": "markdown",
   "id": "3152bb76",
   "metadata": {},
   "source": [
    "## Connecting to MySQL server to fetch student name with their details"
   ]
  },
  {
   "cell_type": "code",
   "execution_count": 14,
   "id": "97dd2de0",
   "metadata": {},
   "outputs": [
    {
     "name": "stdout",
     "output_type": "stream",
     "text": [
      "Student Dictionary:\n",
      "{'Manshi Rathour': 1, 'Ananya Rathour': 2, 'Naincy Rathour': 3, 'Mayank Rathour': 4}\n"
     ]
    }
   ],
   "source": [
    "def load_data_from_mysql(host, user, password, database, student_images_dict):\n",
    "    try:\n",
    "        # Connect to MySQL without specifying the authentication plugin\n",
    "        connection = pymysql.connect(\n",
    "            host=host,\n",
    "            user=user,\n",
    "            password=password,\n",
    "            database=database\n",
    "        )\n",
    "\n",
    "        # Create a cursor object\n",
    "        cursor = connection.cursor()\n",
    "\n",
    "        # Execute a query to fetch data\n",
    "        query = \"SELECT * FROM students\"\n",
    "        cursor.execute(query)\n",
    "\n",
    "        # Fetch data and convert it into a DataFrame\n",
    "        data = cursor.fetchall()\n",
    "        df = pd.DataFrame(data, columns=[col[0] for col in cursor.description])\n",
    "\n",
    "        # Convert DataFrame to dictionary\n",
    "        student_dict = df.set_index('name')['student_id'].to_dict()\n",
    "\n",
    "        # Close the cursor and connection\n",
    "        cursor.close()\n",
    "        connection.close()\n",
    "\n",
    "        return student_dict\n",
    "\n",
    "    except Exception as e:\n",
    "        print(f\"An error occurred: {e}\")\n",
    "        return None, None\n",
    "\n",
    "    \n",
    "\n",
    "\n",
    "student_dict = load_data_from_mysql(host, user, password, database, student_images_dict)\n",
    "\n",
    "\n",
    "print(\"Student Dictionary:\")\n",
    "print(student_dict)\n"
   ]
  },
  {
   "cell_type": "markdown",
   "id": "c3e45891",
   "metadata": {},
   "source": [
    "## Resizing images "
   ]
  },
  {
   "cell_type": "code",
   "execution_count": 15,
   "id": "000c43e1",
   "metadata": {},
   "outputs": [
    {
     "name": "stdout",
     "output_type": "stream",
     "text": [
      "Unable to read image: ..\\student_images\\New Student\\image_1.jpg\n",
      "Unable to read image: ..\\student_images\\New Student\\image_2.jpg\n",
      "Unable to read image: ..\\student_images\\New Student\\image_3.jpg\n",
      "Unable to read image: ..\\student_images\\New Student\\image_4.jpg\n",
      "Unable to read image: ..\\student_images\\New Student\\image_5.jpg\n",
      "Unable to read image: ..\\student_images\\New Student\\image_6.jpg\n",
      "X shape: (38, 180, 180, 3)\n",
      "y shape: (38,)\n"
     ]
    }
   ],
   "source": [
    "def resize_images(student_images_dict, student_dict, X=None, y=None, image_size=(180, 180)):\n",
    "    if X is None:\n",
    "        X = []\n",
    "    if y is None:\n",
    "        y = []\n",
    "\n",
    "    processed_files = set()\n",
    "    \n",
    "    # Add existing files to processed_files\n",
    "    for img in X:\n",
    "        processed_files.add(img)\n",
    "    \n",
    "    for student_name, images in student_images_dict.items():\n",
    "        for image in images:\n",
    "            # Check if the image file exists\n",
    "            if os.path.exists(str(image)):\n",
    "                # Check if the image has been processed already\n",
    "                if str(image) not in processed_files:\n",
    "                    # Read the image\n",
    "                    img = cv2.imread(str(image))\n",
    "                    \n",
    "                    # Check if the image was read successfully\n",
    "                    if img is not None:\n",
    "                        # Resize the image\n",
    "                        resized_img = cv2.resize(img, image_size)\n",
    "                        \n",
    "                        # Convert BGR to RGB\n",
    "                        resized_img_rgb = cv2.cvtColor(resized_img, cv2.COLOR_BGR2RGB)\n",
    "                        \n",
    "                        # Append the resized image to X\n",
    "                        X.append(resized_img_rgb)\n",
    "                        \n",
    "                        # Append the corresponding label to y\n",
    "                        y.append(student_dict[student_name])\n",
    "                        \n",
    "                        # Add the filename to processed_files\n",
    "                        processed_files.add(str(image))\n",
    "                    else:\n",
    "                        print(f\"Unable to read image: {image}\")\n",
    "                else:\n",
    "                    print(f\"Image already processed: {image}\")\n",
    "            else:\n",
    "                print(f\"Image file does not exist: {image}\")\n",
    "\n",
    "    # Convert lists to numpy arrays\n",
    "    X = np.array(X)\n",
    "    y = np.array(y)\n",
    "    \n",
    "    return X, y\n",
    "\n",
    "\n",
    "X, y = resize_images(student_images_dict, student_dict)\n",
    "\n",
    "\n",
    "print(\"X shape:\", X.shape)\n",
    "print(\"y shape:\", y.shape)"
   ]
  },
  {
   "cell_type": "markdown",
   "id": "df0ee7e5",
   "metadata": {},
   "source": [
    "## Train Test Split"
   ]
  },
  {
   "cell_type": "code",
   "execution_count": 16,
   "id": "d888b9cd",
   "metadata": {},
   "outputs": [],
   "source": [
    "X_train, X_test, y_train, y_test = train_test_split(X, y, random_state=0)"
   ]
  },
  {
   "cell_type": "markdown",
   "id": "625a548b",
   "metadata": {},
   "source": [
    "## Processing : scale images "
   ]
  },
  {
   "cell_type": "code",
   "execution_count": 17,
   "id": "04d1fcd4",
   "metadata": {},
   "outputs": [],
   "source": [
    "X_train_scaled = X_train / 255\n",
    "X_test_scaled = X_test / 255"
   ]
  },
  {
   "cell_type": "markdown",
   "id": "136e8b9b",
   "metadata": {},
   "source": [
    "# Build convolutional neural network and train it"
   ]
  },
  {
   "cell_type": "code",
   "execution_count": 18,
   "id": "e4288a9b",
   "metadata": {},
   "outputs": [
    {
     "name": "stdout",
     "output_type": "stream",
     "text": [
      "WARNING:tensorflow:From C:\\Users\\mansh\\AppData\\Local\\Programs\\Python\\Python311\\Lib\\site-packages\\keras\\src\\backend.py:873: The name tf.get_default_graph is deprecated. Please use tf.compat.v1.get_default_graph instead.\n",
      "\n"
     ]
    }
   ],
   "source": [
    "data_augmentation = keras.Sequential(\n",
    "  [\n",
    "    layers.experimental.preprocessing.RandomFlip(\"horizontal\", \n",
    "                                                 input_shape=(180, \n",
    "                                                              180,\n",
    "                                                              3)),\n",
    "    layers.experimental.preprocessing.RandomZoom(0.1),\n",
    "  ]\n",
    ")"
   ]
  },
  {
   "cell_type": "code",
   "execution_count": 19,
   "id": "a3a71489",
   "metadata": {},
   "outputs": [
    {
     "name": "stdout",
     "output_type": "stream",
     "text": [
      "WARNING:tensorflow:From C:\\Users\\mansh\\AppData\\Local\\Programs\\Python\\Python311\\Lib\\site-packages\\keras\\src\\layers\\pooling\\max_pooling2d.py:161: The name tf.nn.max_pool is deprecated. Please use tf.nn.max_pool2d instead.\n",
      "\n",
      "WARNING:tensorflow:From C:\\Users\\mansh\\AppData\\Local\\Programs\\Python\\Python311\\Lib\\site-packages\\keras\\src\\optimizers\\__init__.py:309: The name tf.train.Optimizer is deprecated. Please use tf.compat.v1.train.Optimizer instead.\n",
      "\n",
      "Epoch 1/30\n",
      "WARNING:tensorflow:From C:\\Users\\mansh\\AppData\\Local\\Programs\\Python\\Python311\\Lib\\site-packages\\keras\\src\\utils\\tf_utils.py:492: The name tf.ragged.RaggedTensorValue is deprecated. Please use tf.compat.v1.ragged.RaggedTensorValue instead.\n",
      "\n",
      "WARNING:tensorflow:From C:\\Users\\mansh\\AppData\\Local\\Programs\\Python\\Python311\\Lib\\site-packages\\keras\\src\\engine\\base_layer_utils.py:384: The name tf.executing_eagerly_outside_functions is deprecated. Please use tf.compat.v1.executing_eagerly_outside_functions instead.\n",
      "\n",
      "1/1 [==============================] - 2s 2s/step - loss: 1.6472 - accuracy: 0.2857\n",
      "Epoch 2/30\n",
      "1/1 [==============================] - 0s 191ms/step - loss: 2.9456 - accuracy: 0.2857\n",
      "Epoch 3/30\n",
      "1/1 [==============================] - 0s 203ms/step - loss: 4.5900 - accuracy: 0.2857\n",
      "Epoch 4/30\n",
      "1/1 [==============================] - 0s 193ms/step - loss: 4.4509 - accuracy: 0.2857\n",
      "Epoch 5/30\n",
      "1/1 [==============================] - 0s 189ms/step - loss: 2.9532 - accuracy: 0.4286\n",
      "Epoch 6/30\n",
      "1/1 [==============================] - 0s 197ms/step - loss: 2.0146 - accuracy: 0.1429\n",
      "Epoch 7/30\n",
      "1/1 [==============================] - 0s 195ms/step - loss: 1.3275 - accuracy: 0.5357\n",
      "Epoch 8/30\n",
      "1/1 [==============================] - 0s 186ms/step - loss: 1.1184 - accuracy: 0.5714\n",
      "Epoch 9/30\n",
      "1/1 [==============================] - 0s 200ms/step - loss: 1.1682 - accuracy: 0.5357\n",
      "Epoch 10/30\n",
      "1/1 [==============================] - 0s 192ms/step - loss: 1.1526 - accuracy: 0.5714\n",
      "Epoch 11/30\n",
      "1/1 [==============================] - 0s 188ms/step - loss: 1.0477 - accuracy: 0.5714\n",
      "Epoch 12/30\n",
      "1/1 [==============================] - 0s 205ms/step - loss: 0.9019 - accuracy: 0.6071\n",
      "Epoch 13/30\n",
      "1/1 [==============================] - 0s 189ms/step - loss: 0.7932 - accuracy: 0.8571\n",
      "Epoch 14/30\n",
      "1/1 [==============================] - 0s 188ms/step - loss: 0.7379 - accuracy: 0.8214\n",
      "Epoch 15/30\n",
      "1/1 [==============================] - 0s 187ms/step - loss: 0.6803 - accuracy: 0.6429\n",
      "Epoch 16/30\n",
      "1/1 [==============================] - 0s 201ms/step - loss: 0.6107 - accuracy: 0.8929\n",
      "Epoch 17/30\n",
      "1/1 [==============================] - 0s 184ms/step - loss: 0.5240 - accuracy: 0.8929\n",
      "Epoch 18/30\n",
      "1/1 [==============================] - 0s 171ms/step - loss: 0.4605 - accuracy: 0.8571\n",
      "Epoch 19/30\n",
      "1/1 [==============================] - 0s 179ms/step - loss: 0.4289 - accuracy: 0.8571\n",
      "Epoch 20/30\n",
      "1/1 [==============================] - 0s 204ms/step - loss: 0.3437 - accuracy: 0.9286\n",
      "Epoch 21/30\n",
      "1/1 [==============================] - 0s 178ms/step - loss: 0.2799 - accuracy: 1.0000\n",
      "Epoch 22/30\n",
      "1/1 [==============================] - 0s 183ms/step - loss: 0.2371 - accuracy: 1.0000\n",
      "Epoch 23/30\n",
      "1/1 [==============================] - 0s 197ms/step - loss: 0.1770 - accuracy: 1.0000\n",
      "Epoch 24/30\n",
      "1/1 [==============================] - 0s 181ms/step - loss: 0.1401 - accuracy: 1.0000\n",
      "Epoch 25/30\n",
      "1/1 [==============================] - 0s 175ms/step - loss: 0.0929 - accuracy: 1.0000\n",
      "Epoch 26/30\n",
      "1/1 [==============================] - 0s 186ms/step - loss: 0.0869 - accuracy: 1.0000\n",
      "Epoch 27/30\n",
      "1/1 [==============================] - 0s 192ms/step - loss: 0.0655 - accuracy: 1.0000\n",
      "Epoch 28/30\n",
      "1/1 [==============================] - 0s 211ms/step - loss: 0.0484 - accuracy: 1.0000\n",
      "Epoch 29/30\n",
      "1/1 [==============================] - 0s 195ms/step - loss: 0.0296 - accuracy: 1.0000\n",
      "Epoch 30/30\n",
      "1/1 [==============================] - 0s 176ms/step - loss: 0.0187 - accuracy: 1.0000\n"
     ]
    },
    {
     "data": {
      "text/plain": [
       "<keras.src.callbacks.History at 0x20d0901b810>"
      ]
     },
     "execution_count": 19,
     "metadata": {},
     "output_type": "execute_result"
    }
   ],
   "source": [
    "num_classes = 5\n",
    "\n",
    "model = Sequential([\n",
    "  data_augmentation,\n",
    "  layers.Conv2D(16, 3, padding='same', activation='relu'),\n",
    "  layers.MaxPooling2D(),\n",
    "  layers.Conv2D(32, 3, padding='same', activation='relu'),\n",
    "  layers.MaxPooling2D(),\n",
    "  layers.Conv2D(64, 3, padding='same', activation='relu'),\n",
    "  layers.MaxPooling2D(),\n",
    "  layers.Dropout(0.2),\n",
    "  layers.Flatten(),\n",
    "  layers.Dense(128, activation='relu'),\n",
    "  layers.Dense(num_classes)\n",
    "])\n",
    "\n",
    "model.compile(optimizer='adam',\n",
    "              loss=tf.keras.losses.SparseCategoricalCrossentropy(from_logits=True),\n",
    "              metrics=['accuracy'])\n",
    "              \n",
    "model.fit(X_train_scaled, y_train, epochs=30)       "
   ]
  },
  {
   "cell_type": "code",
   "execution_count": 20,
   "id": "e38dc4a6",
   "metadata": {},
   "outputs": [
    {
     "name": "stdout",
     "output_type": "stream",
     "text": [
      "1/1 [==============================] - 0s 203ms/step - loss: 0.1217 - accuracy: 1.0000\n"
     ]
    },
    {
     "data": {
      "text/plain": [
       "[0.12169454246759415, 1.0]"
      ]
     },
     "execution_count": 20,
     "metadata": {},
     "output_type": "execute_result"
    }
   ],
   "source": [
    "model.evaluate(X_test_scaled,y_test)"
   ]
  },
  {
   "cell_type": "code",
   "execution_count": 21,
   "id": "3e1402fe",
   "metadata": {},
   "outputs": [
    {
     "name": "stdout",
     "output_type": "stream",
     "text": [
      "1/1 [==============================] - 0s 125ms/step\n"
     ]
    },
    {
     "data": {
      "text/plain": [
       "array([[-1.3425345e+01,  5.3855433e+00, -1.8600888e+00,  3.8618374e+00,\n",
       "         8.5728703e+00],\n",
       "       [-1.3016029e+01,  2.6115177e+00, -6.0269034e-01,  7.4534979e+00,\n",
       "         1.2354205e+00],\n",
       "       [-1.4541209e+01,  9.2354527e+00,  2.4367200e-01,  5.3720551e+00,\n",
       "         3.5282743e+00],\n",
       "       [-1.3114316e+01,  9.0842390e+00,  1.8418292e-02,  4.5803981e+00,\n",
       "         3.4810174e+00],\n",
       "       [-1.3401680e+01,  9.2818575e+00, -1.2933512e-01,  4.2467365e+00,\n",
       "         4.3949089e+00],\n",
       "       [-1.5086336e+01,  8.7821035e+00,  1.4756517e+00,  6.0134931e+00,\n",
       "         2.5777490e+00],\n",
       "       [-1.1581469e+01,  5.6319790e+00, -3.8998673e+00,  4.0307455e+00,\n",
       "         6.1696796e+00],\n",
       "       [-1.3775360e+01,  8.2477160e+00,  5.4447794e-01,  5.0360637e+00,\n",
       "         3.7911148e+00],\n",
       "       [-1.3189781e+01,  6.1017499e+00, -1.6272542e+00,  4.2550359e+00,\n",
       "         6.7901697e+00],\n",
       "       [-2.5451221e+01, -9.5933304e+00,  2.7255560e+01,  1.6570337e+01,\n",
       "        -8.7223387e+00]], dtype=float32)"
      ]
     },
     "execution_count": 21,
     "metadata": {},
     "output_type": "execute_result"
    }
   ],
   "source": [
    "predictions = model.predict(X_test_scaled)\n",
    "predictions"
   ]
  },
  {
   "cell_type": "code",
   "execution_count": 22,
   "id": "83fa4a48",
   "metadata": {},
   "outputs": [],
   "source": [
    "score = tf.nn.softmax(predictions[0])"
   ]
  },
  {
   "cell_type": "code",
   "execution_count": 23,
   "id": "bfe53175",
   "metadata": {},
   "outputs": [
    {
     "data": {
      "text/plain": [
       "4"
      ]
     },
     "execution_count": 23,
     "metadata": {},
     "output_type": "execute_result"
    }
   ],
   "source": [
    "np.argmax(score)"
   ]
  },
  {
   "cell_type": "code",
   "execution_count": 24,
   "id": "fb2ed265",
   "metadata": {},
   "outputs": [
    {
     "data": {
      "text/plain": [
       "4"
      ]
     },
     "execution_count": 24,
     "metadata": {},
     "output_type": "execute_result"
    }
   ],
   "source": [
    "y_test[0]"
   ]
  },
  {
   "cell_type": "markdown",
   "id": "5f2a74e5",
   "metadata": {},
   "source": [
    "## Save trained model to pickel file"
   ]
  },
  {
   "cell_type": "code",
   "execution_count": 25,
   "id": "c417ac97",
   "metadata": {},
   "outputs": [],
   "source": [
    "with open('model.pkl', 'wb') as f:\n",
    "    pickle.dump(model, f)"
   ]
  }
 ],
 "metadata": {
  "kernelspec": {
   "display_name": "Python 3 (ipykernel)",
   "language": "python",
   "name": "python3"
  },
  "language_info": {
   "codemirror_mode": {
    "name": "ipython",
    "version": 3
   },
   "file_extension": ".py",
   "mimetype": "text/x-python",
   "name": "python",
   "nbconvert_exporter": "python",
   "pygments_lexer": "ipython3",
   "version": "3.11.0"
  }
 },
 "nbformat": 4,
 "nbformat_minor": 5
}
